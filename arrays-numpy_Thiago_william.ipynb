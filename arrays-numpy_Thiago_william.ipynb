{
 "cells": [
  {
   "cell_type": "markdown",
   "metadata": {},
   "source": [
    "## Prática com Arrays no Numpy"
   ]
  },
  {
   "cell_type": "code",
   "execution_count": 1,
   "metadata": {},
   "outputs": [],
   "source": [
    "import numpy as np"
   ]
  },
  {
   "cell_type": "markdown",
   "metadata": {},
   "source": [
    "### 1 - Gerar um array aleatório de 100 elementos, com semente (10). Calcular mediana, média, soma, desvio e variância correspondente"
   ]
  },
  {
   "cell_type": "code",
   "execution_count": 12,
   "metadata": {},
   "outputs": [
    {
     "data": {
      "text/plain": [
       "array([0.77132064, 0.02075195, 0.63364823, 0.74880388, 0.49850701,\n",
       "       0.22479665, 0.19806286, 0.76053071, 0.16911084, 0.08833981,\n",
       "       0.68535982, 0.95339335, 0.00394827, 0.51219226, 0.81262096,\n",
       "       0.61252607, 0.72175532, 0.29187607, 0.91777412, 0.71457578,\n",
       "       0.54254437, 0.14217005, 0.37334076, 0.67413362, 0.44183317,\n",
       "       0.43401399, 0.61776698, 0.51313824, 0.65039718, 0.60103895,\n",
       "       0.8052232 , 0.52164715, 0.90864888, 0.31923609, 0.09045935,\n",
       "       0.30070006, 0.11398436, 0.82868133, 0.04689632, 0.62628715,\n",
       "       0.54758616, 0.819287  , 0.19894754, 0.8568503 , 0.35165264,\n",
       "       0.75464769, 0.29596171, 0.88393648, 0.32551164, 0.1650159 ,\n",
       "       0.39252924, 0.09346037, 0.82110566, 0.15115202, 0.38411445,\n",
       "       0.94426071, 0.98762547, 0.45630455, 0.82612284, 0.25137413,\n",
       "       0.59737165, 0.90283176, 0.53455795, 0.59020136, 0.03928177,\n",
       "       0.35718176, 0.07961309, 0.30545992, 0.33071931, 0.7738303 ,\n",
       "       0.03995921, 0.42949218, 0.31492687, 0.63649114, 0.34634715,\n",
       "       0.04309736, 0.87991517, 0.76324059, 0.87809664, 0.41750914,\n",
       "       0.60557756, 0.51346663, 0.59783665, 0.26221566, 0.30087131,\n",
       "       0.02539978, 0.30306256, 0.24207588, 0.55757819, 0.56550702,\n",
       "       0.47513225, 0.29279798, 0.06425106, 0.97881915, 0.33970784,\n",
       "       0.49504863, 0.97708073, 0.44077382, 0.31827281, 0.51979699])"
      ]
     },
     "execution_count": 12,
     "metadata": {},
     "output_type": "execute_result"
    }
   ],
   "source": [
    "array1 = np.random.seed(10)\n",
    "array1 = np.random.rand(100)\n",
    "array1"
   ]
  },
  {
   "cell_type": "code",
   "execution_count": 15,
   "metadata": {},
   "outputs": [
    {
     "name": "stdout",
     "output_type": "stream",
     "text": [
      "Média: 0.48534879111973994\n",
      "Mediana: 0.4967778215925224\n",
      "Desvio Padrão: 0.27497659243084727\n",
      "Variância: 0.0756121263848803\n",
      "Soma: 48.53487911197399\n"
     ]
    }
   ],
   "source": [
    "media = np.mean(array1)\n",
    "mediana = np.median(array1)\n",
    "desvio_padrao = np.std(array1)\n",
    "variancia = np.var(array1)\n",
    "soma = np.sum(array1)\n",
    "print(f'Média: {media}\\nMediana: {mediana}\\nDesvio Padrão: {desvio_padrao}\\nVariância: {variancia}\\nSoma: {soma}')"
   ]
  },
  {
   "cell_type": "markdown",
   "metadata": {},
   "source": [
    "### 2 Refazer os exercícios de funções (calcular fatorial e soma de séries) usando o numpy."
   ]
  },
  {
   "cell_type": "code",
   "execution_count": 25,
   "metadata": {},
   "outputs": [
    {
     "name": "stdout",
     "output_type": "stream",
     "text": [
      "5040\n"
     ]
    }
   ],
   "source": [
    "def fatorial(n: int):\n",
    "    array = np.arange(1, n+1)\n",
    "    return np.prod(array)\n",
    "\n",
    "print(fatorial(7))"
   ]
  },
  {
   "cell_type": "code",
   "execution_count": 28,
   "metadata": {},
   "outputs": [
    {
     "name": "stdout",
     "output_type": "stream",
     "text": [
      "5050\n"
     ]
    }
   ],
   "source": [
    "def soma_serie(inicial:int, final:int):\n",
    "    array = np.arange(inicial, final+1)\n",
    "    soma = np.sum(array)\n",
    "    return soma\n",
    "\n",
    "print(soma_serie(0,100))"
   ]
  }
 ],
 "metadata": {
  "kernelspec": {
   "display_name": ".venv",
   "language": "python",
   "name": "python3"
  },
  "language_info": {
   "codemirror_mode": {
    "name": "ipython",
    "version": 3
   },
   "file_extension": ".py",
   "mimetype": "text/x-python",
   "name": "python",
   "nbconvert_exporter": "python",
   "pygments_lexer": "ipython3",
   "version": "3.10.12"
  }
 },
 "nbformat": 4,
 "nbformat_minor": 2
}
